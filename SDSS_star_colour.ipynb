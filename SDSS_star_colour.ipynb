{
 "cells": [
  {
   "cell_type": "code",
   "execution_count": 38,
   "id": "e1f5f773-6889-461b-a369-eec8587dfcc8",
   "metadata": {},
   "outputs": [
    {
     "name": "stdout",
     "output_type": "stream",
     "text": [
      "Hello real data\n"
     ]
    }
   ],
   "source": [
    "print(\"Hello real data\")"
   ]
  },
  {
   "cell_type": "code",
   "execution_count": 39,
   "id": "dbd17adb-a1d4-4dec-bd8c-e072dcd50c44",
   "metadata": {},
   "outputs": [],
   "source": [
    "import pandas as pd\n",
    "import matplotlib.pyplot as plt\n",
    "import numpy as np"
   ]
  },
  {
   "cell_type": "code",
   "execution_count": 40,
   "id": "e4c0437c-1255-422e-b58d-027e5b2b8b2c",
   "metadata": {},
   "outputs": [],
   "source": [
    "df = pd.read_csv('/Users/dhruvkumar/Desktop/STARS.csv') # catalog for only 1000 bright stars.....\n",
    "# with more computation power in future we will do it for the whole dataset."
   ]
  },
  {
   "cell_type": "code",
   "execution_count": 41,
   "id": "773d821d-b349-45a6-af04-670f1bd4374e",
   "metadata": {},
   "outputs": [
    {
     "data": {
      "text/html": [
       "<div>\n",
       "<style scoped>\n",
       "    .dataframe tbody tr th:only-of-type {\n",
       "        vertical-align: middle;\n",
       "    }\n",
       "\n",
       "    .dataframe tbody tr th {\n",
       "        vertical-align: top;\n",
       "    }\n",
       "\n",
       "    .dataframe thead th {\n",
       "        text-align: right;\n",
       "    }\n",
       "</style>\n",
       "<table border=\"1\" class=\"dataframe\">\n",
       "  <thead>\n",
       "    <tr style=\"text-align: right;\">\n",
       "      <th></th>\n",
       "      <th>objid</th>\n",
       "      <th>modelmag_u</th>\n",
       "      <th>modelmag_g</th>\n",
       "      <th>modelmag_r</th>\n",
       "      <th>modelmag_i</th>\n",
       "      <th>modelmag_z</th>\n",
       "      <th>z</th>\n",
       "    </tr>\n",
       "  </thead>\n",
       "  <tbody>\n",
       "    <tr>\n",
       "      <th>0</th>\n",
       "      <td>1237660024494620770</td>\n",
       "      <td>18.81865</td>\n",
       "      <td>22.21451</td>\n",
       "      <td>16.72404</td>\n",
       "      <td>16.43035</td>\n",
       "      <td>25.28932</td>\n",
       "      <td>-0.000051</td>\n",
       "    </tr>\n",
       "    <tr>\n",
       "      <th>1</th>\n",
       "      <td>1237660024494620813</td>\n",
       "      <td>18.44032</td>\n",
       "      <td>17.31879</td>\n",
       "      <td>16.90867</td>\n",
       "      <td>16.75457</td>\n",
       "      <td>16.68984</td>\n",
       "      <td>-0.000061</td>\n",
       "    </tr>\n",
       "    <tr>\n",
       "      <th>2</th>\n",
       "      <td>1237660024494752505</td>\n",
       "      <td>25.70852</td>\n",
       "      <td>22.61385</td>\n",
       "      <td>21.15669</td>\n",
       "      <td>20.17282</td>\n",
       "      <td>19.62892</td>\n",
       "      <td>0.000074</td>\n",
       "    </tr>\n",
       "    <tr>\n",
       "      <th>3</th>\n",
       "      <td>1237656906346071161</td>\n",
       "      <td>24.90523</td>\n",
       "      <td>23.68735</td>\n",
       "      <td>23.03518</td>\n",
       "      <td>20.58394</td>\n",
       "      <td>19.05735</td>\n",
       "      <td>-0.000105</td>\n",
       "    </tr>\n",
       "    <tr>\n",
       "      <th>4</th>\n",
       "      <td>1237660024494752027</td>\n",
       "      <td>20.67095</td>\n",
       "      <td>19.74322</td>\n",
       "      <td>19.74560</td>\n",
       "      <td>19.81164</td>\n",
       "      <td>19.96080</td>\n",
       "      <td>-0.000941</td>\n",
       "    </tr>\n",
       "  </tbody>\n",
       "</table>\n",
       "</div>"
      ],
      "text/plain": [
       "                 objid  modelmag_u  modelmag_g  modelmag_r  modelmag_i  \\\n",
       "0  1237660024494620770    18.81865    22.21451    16.72404    16.43035   \n",
       "1  1237660024494620813    18.44032    17.31879    16.90867    16.75457   \n",
       "2  1237660024494752505    25.70852    22.61385    21.15669    20.17282   \n",
       "3  1237656906346071161    24.90523    23.68735    23.03518    20.58394   \n",
       "4  1237660024494752027    20.67095    19.74322    19.74560    19.81164   \n",
       "\n",
       "   modelmag_z         z  \n",
       "0    25.28932 -0.000051  \n",
       "1    16.68984 -0.000061  \n",
       "2    19.62892  0.000074  \n",
       "3    19.05735 -0.000105  \n",
       "4    19.96080 -0.000941  "
      ]
     },
     "execution_count": 41,
     "metadata": {},
     "output_type": "execute_result"
    }
   ],
   "source": [
    "df.head()"
   ]
  },
  {
   "cell_type": "code",
   "execution_count": 42,
   "id": "e9e74bfe-0cac-4d21-9cf4-5b55f307604c",
   "metadata": {},
   "outputs": [
    {
     "data": {
      "text/plain": [
       "<matplotlib.collections.PathCollection at 0x7fbd29726d00>"
      ]
     },
     "execution_count": 42,
     "metadata": {},
     "output_type": "execute_result"
    },
    {
     "data": {
      "image/png": "[encoded data removed]",
      "text/plain": [
       "<Figure size 432x288 with 1 Axes>"
      ]
     },
     "metadata": {
      "needs_background": "light"
     },
     "output_type": "display_data"
    }
   ],
   "source": [
    "plt.scatter(df.modelmag_u,df.z) "
   ]
  },
  {
   "cell_type": "markdown",
   "id": "02c7cd88-e59f-4b48-9f4f-fbefefa3c5d9",
   "metadata": {},
   "source": [
    "# Stars on the Left side of Graph are Bright and Right side one are DULL"
   ]
  },
  {
   "cell_type": "code",
   "execution_count": 43,
   "id": "a6ccfe8b-ed84-4743-82c0-08c2aed629b4",
   "metadata": {},
   "outputs": [
    {
     "data": {
      "text/plain": [
       "<matplotlib.collections.PathCollection at 0x7fbd0843dc40>"
      ]
     },
     "execution_count": 43,
     "metadata": {},
     "output_type": "execute_result"
    },
    {
     "data": {
      "image/png": "[encoded data removed]",
      "text/plain": [
       "<Figure size 432x288 with 1 Axes>"
      ]
     },
     "metadata": {
      "needs_background": "light"
     },
     "output_type": "display_data"
    }
   ],
   "source": [
    "plt.scatter(df.modelmag_u - df.modelmag_g,df.z)"
   ]
  },
  {
   "cell_type": "code",
   "execution_count": 44,
   "id": "3b02f471-4fb4-4aab-a359-71a0fd7cd692",
   "metadata": {},
   "outputs": [
    {
     "data": {
      "text/plain": [
       "<matplotlib.collections.PathCollection at 0x7fbcc844c160>"
      ]
     },
     "execution_count": 44,
     "metadata": {},
     "output_type": "execute_result"
    },
    {
     "data": {
      "image/png": "[encoded data removed]",
      "text/plain": [
       "<Figure size 432x288 with 1 Axes>"
      ]
     },
     "metadata": {
      "needs_background": "light"
     },
     "output_type": "display_data"
    }
   ],
   "source": [
    "plt.scatter(df.modelmag_g - df.modelmag_r,df.z)"
   ]
  },
  {
   "cell_type": "code",
   "execution_count": 45,
   "id": "1706b866-67ae-450e-ac99-58d19175bfe1",
   "metadata": {},
   "outputs": [
    {
     "data": {
      "text/plain": [
       "<matplotlib.collections.PathCollection at 0x7fbcb80ffe80>"
      ]
     },
     "execution_count": 45,
     "metadata": {},
     "output_type": "execute_result"
    },
    {
     "data": {
      "image/png": "[encoded data removed]",
      "text/plain": [
       "<Figure size 432x288 with 1 Axes>"
      ]
     },
     "metadata": {
      "needs_background": "light"
     },
     "output_type": "display_data"
    }
   ],
   "source": [
    "plt.scatter(df.modelmag_r - df.modelmag_i,df.z)"
   ]
  },
  {
   "cell_type": "code",
   "execution_count": 46,
   "id": "87c8b366-f8db-47fd-bf6c-0ede7374ab0f",
   "metadata": {},
   "outputs": [
    {
     "data": {
      "text/plain": [
       "<matplotlib.collections.PathCollection at 0x7fbd084def40>"
      ]
     },
     "execution_count": 46,
     "metadata": {},
     "output_type": "execute_result"
    },
    {
     "data": {
      "image/png": "[encoded data removed]",
      "text/plain": [
       "<Figure size 432x288 with 1 Axes>"
      ]
     },
     "metadata": {
      "needs_background": "light"
     },
     "output_type": "display_data"
    }
   ],
   "source": [
    "plt.scatter(df.modelmag_i - df.modelmag_z,df.z)"
   ]
  },
  {
   "cell_type": "code",
   "execution_count": 47,
   "id": "00da5ffd-8caa-43f5-bb1c-dce2b3dec218",
   "metadata": {},
   "outputs": [
    {
     "data": {
      "text/plain": [
       "<matplotlib.collections.PathCollection at 0x7fbd08542d00>"
      ]
     },
     "execution_count": 47,
     "metadata": {},
     "output_type": "execute_result"
    },
    {
     "data": {
      "image/png": "[encoded data removed]",
      "text/plain": [
       "<Figure size 432x288 with 1 Axes>"
      ]
     },
     "metadata": {
      "needs_background": "light"
     },
     "output_type": "display_data"
    }
   ],
   "source": [
    "plt.scatter(df.modelmag_i,df.z)"
   ]
  },
  {
   "cell_type": "code",
   "execution_count": 48,
   "id": "42600d67-69cb-4662-bdcf-f8ad9e269bec",
   "metadata": {},
   "outputs": [],
   "source": [
    "df['u-g'] = df.modelmag_u - df.modelmag_g\n",
    "df['g-r'] = df.modelmag_g - df.modelmag_r\n",
    "df['r-i'] = df.modelmag_r - df.modelmag_i\n",
    "df['i-z'] = df.modelmag_i - df.modelmag_z"
   ]
  },
  {
   "cell_type": "code",
   "execution_count": 49,
   "id": "d3376eba-92c3-46b6-a789-1cf59089ca30",
   "metadata": {},
   "outputs": [
    {
     "data": {
      "text/html": [
       "<div>\n",
       "<style scoped>\n",
       "    .dataframe tbody tr th:only-of-type {\n",
       "        vertical-align: middle;\n",
       "    }\n",
       "\n",
       "    .dataframe tbody tr th {\n",
       "        vertical-align: top;\n",
       "    }\n",
       "\n",
       "    .dataframe thead th {\n",
       "        text-align: right;\n",
       "    }\n",
       "</style>\n",
       "<table border=\"1\" class=\"dataframe\">\n",
       "  <thead>\n",
       "    <tr style=\"text-align: right;\">\n",
       "      <th></th>\n",
       "      <th>objid</th>\n",
       "      <th>modelmag_u</th>\n",
       "      <th>modelmag_g</th>\n",
       "      <th>modelmag_r</th>\n",
       "      <th>modelmag_i</th>\n",
       "      <th>modelmag_z</th>\n",
       "      <th>z</th>\n",
       "      <th>u-g</th>\n",
       "      <th>g-r</th>\n",
       "      <th>r-i</th>\n",
       "      <th>i-z</th>\n",
       "    </tr>\n",
       "  </thead>\n",
       "  <tbody>\n",
       "    <tr>\n",
       "      <th>0</th>\n",
       "      <td>1237660024494620770</td>\n",
       "      <td>18.81865</td>\n",
       "      <td>22.21451</td>\n",
       "      <td>16.72404</td>\n",
       "      <td>16.43035</td>\n",
       "      <td>25.28932</td>\n",
       "      <td>-0.000051</td>\n",
       "      <td>-3.39586</td>\n",
       "      <td>5.49047</td>\n",
       "      <td>0.29369</td>\n",
       "      <td>-8.85897</td>\n",
       "    </tr>\n",
       "    <tr>\n",
       "      <th>1</th>\n",
       "      <td>1237660024494620813</td>\n",
       "      <td>18.44032</td>\n",
       "      <td>17.31879</td>\n",
       "      <td>16.90867</td>\n",
       "      <td>16.75457</td>\n",
       "      <td>16.68984</td>\n",
       "      <td>-0.000061</td>\n",
       "      <td>1.12153</td>\n",
       "      <td>0.41012</td>\n",
       "      <td>0.15410</td>\n",
       "      <td>0.06473</td>\n",
       "    </tr>\n",
       "    <tr>\n",
       "      <th>2</th>\n",
       "      <td>1237660024494752505</td>\n",
       "      <td>25.70852</td>\n",
       "      <td>22.61385</td>\n",
       "      <td>21.15669</td>\n",
       "      <td>20.17282</td>\n",
       "      <td>19.62892</td>\n",
       "      <td>0.000074</td>\n",
       "      <td>3.09467</td>\n",
       "      <td>1.45716</td>\n",
       "      <td>0.98387</td>\n",
       "      <td>0.54390</td>\n",
       "    </tr>\n",
       "    <tr>\n",
       "      <th>3</th>\n",
       "      <td>1237656906346071161</td>\n",
       "      <td>24.90523</td>\n",
       "      <td>23.68735</td>\n",
       "      <td>23.03518</td>\n",
       "      <td>20.58394</td>\n",
       "      <td>19.05735</td>\n",
       "      <td>-0.000105</td>\n",
       "      <td>1.21788</td>\n",
       "      <td>0.65217</td>\n",
       "      <td>2.45124</td>\n",
       "      <td>1.52659</td>\n",
       "    </tr>\n",
       "    <tr>\n",
       "      <th>4</th>\n",
       "      <td>1237660024494752027</td>\n",
       "      <td>20.67095</td>\n",
       "      <td>19.74322</td>\n",
       "      <td>19.74560</td>\n",
       "      <td>19.81164</td>\n",
       "      <td>19.96080</td>\n",
       "      <td>-0.000941</td>\n",
       "      <td>0.92773</td>\n",
       "      <td>-0.00238</td>\n",
       "      <td>-0.06604</td>\n",
       "      <td>-0.14916</td>\n",
       "    </tr>\n",
       "  </tbody>\n",
       "</table>\n",
       "</div>"
      ],
      "text/plain": [
       "                 objid  modelmag_u  modelmag_g  modelmag_r  modelmag_i  \\\n",
       "0  1237660024494620770    18.81865    22.21451    16.72404    16.43035   \n",
       "1  1237660024494620813    18.44032    17.31879    16.90867    16.75457   \n",
       "2  1237660024494752505    25.70852    22.61385    21.15669    20.17282   \n",
       "3  1237656906346071161    24.90523    23.68735    23.03518    20.58394   \n",
       "4  1237660024494752027    20.67095    19.74322    19.74560    19.81164   \n",
       "\n",
       "   modelmag_z         z      u-g      g-r      r-i      i-z  \n",
       "0    25.28932 -0.000051 -3.39586  5.49047  0.29369 -8.85897  \n",
       "1    16.68984 -0.000061  1.12153  0.41012  0.15410  0.06473  \n",
       "2    19.62892  0.000074  3.09467  1.45716  0.98387  0.54390  \n",
       "3    19.05735 -0.000105  1.21788  0.65217  2.45124  1.52659  \n",
       "4    19.96080 -0.000941  0.92773 -0.00238 -0.06604 -0.14916  "
      ]
     },
     "execution_count": 49,
     "metadata": {},
     "output_type": "execute_result"
    }
   ],
   "source": [
    "df.head()"
   ]
  },
  {
   "cell_type": "code",
   "execution_count": 50,
   "id": "937f0449-dce4-4107-9e12-dc667752d4b6",
   "metadata": {},
   "outputs": [
    {
     "data": {
      "text/plain": [
       "<matplotlib.collections.PathCollection at 0x7fbd1ba1b640>"
      ]
     },
     "execution_count": 50,
     "metadata": {},
     "output_type": "execute_result"
    },
    {
     "data": {
      "image/png": "[encoded data removed]",
      "text/plain": [
       "<Figure size 432x288 with 1 Axes>"
      ]
     },
     "metadata": {
      "needs_background": "light"
     },
     "output_type": "display_data"
    }
   ],
   "source": [
    "plt.scatter((df.modelmag_u - df.modelmag_g),(df.modelmag_g - df.modelmag_r)) # hotter --> right (blue)  , cooler --> left (red)"
   ]
  },
  {
   "cell_type": "code",
   "execution_count": 51,
   "id": "252210ea-9c5c-4d8e-9019-bf934860b4ca",
   "metadata": {},
   "outputs": [
    {
     "data": {
      "text/plain": [
       "(array([[  0.,   0.,   0.,   0.,   0.,   0.,   0.,   0.,   0.,   2.],\n",
       "        [  0.,   0.,   1.,   0.,   0.,   0.,   0.,   1.,   0.,   0.],\n",
       "        [  0.,   0.,   0.,   1.,   0.,   0.,   0.,   0.,   0.,   0.],\n",
       "        [  0.,   0.,   0.,   0.,   0.,   1.,   2.,   0.,   0.,   0.],\n",
       "        [  0.,   0.,   2., 106.,  19.,   1.,   2.,   0.,   0.,   2.],\n",
       "        [  1.,   0.,   1., 643., 159.,   0.,   1.,   0.,   0.,   0.],\n",
       "        [  0.,   0.,   0.,  11.,  41.,   0.,   0.,   0.,   0.,   0.],\n",
       "        [  1.,   0.,   0.,   0.,   0.,   0.,   0.,   0.,   0.,   0.],\n",
       "        [  0.,   0.,   0.,   0.,   0.,   0.,   0.,   0.,   0.,   0.],\n",
       "        [  1.,   0.,   0.,   1.,   0.,   0.,   0.,   0.,   0.,   0.]]),\n",
       " array([-9.90046 , -7.739568, -5.578676, -3.417784, -1.256892,  0.904   ,\n",
       "         3.064892,  5.225784,  7.386676,  9.547568, 11.70846 ]),\n",
       " array([-5.41052 , -3.744323, -2.078126, -0.411929,  1.254268,  2.920465,\n",
       "         4.586662,  6.252859,  7.919056,  9.585253, 11.25145 ]),\n",
       " <matplotlib.collections.QuadMesh at 0x7fbd08620cd0>)"
      ]
     },
     "execution_count": 51,
     "metadata": {},
     "output_type": "execute_result"
    },
    {
     "data": {
      "image/png": "[encoded data removed]",
      "text/plain": [
       "<Figure size 432x288 with 1 Axes>"
      ]
     },
     "metadata": {
      "needs_background": "light"
     },
     "output_type": "display_data"
    }
   ],
   "source": [
    "plt.hist2d((df.modelmag_u - df.modelmag_g),(df.modelmag_g - df.modelmag_r)) # hotter --> right (blue)  , cooler --> left (red)"
   ]
  },
  {
   "cell_type": "code",
   "execution_count": null,
   "id": "c275fc6b-615d-49a6-8c74-b6b227ead829",
   "metadata": {},
   "outputs": [],
   "source": []
  }
 ],
 "metadata": {
  "kernelspec": {
   "display_name": "Python 3",
   "language": "python",
   "name": "python3"
  },
  "language_info": {
   "codemirror_mode": {
    "name": "ipython",
    "version": 3
   },
   "file_extension": ".py",
   "mimetype": "text/x-python",
   "name": "python",
   "nbconvert_exporter": "python",
   "pygments_lexer": "ipython3",
   "version": "3.8.8"
  }
 },
 "nbformat": 4,
 "nbformat_minor": 5
}
