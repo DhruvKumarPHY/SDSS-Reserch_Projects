{
 "cells": [
  {
   "cell_type": "code",
   "execution_count": 55,
   "id": "a962234f-1c9a-42cf-8d0e-b9b02b2b8782",
   "metadata": {},
   "outputs": [],
   "source": [
    "import pandas as pd\n",
    "import matplotlib.pyplot as plt"
   ]
  },
  {
   "cell_type": "code",
   "execution_count": 56,
   "id": "2914845e-6340-41f6-97e4-ab6fbe453646",
   "metadata": {},
   "outputs": [],
   "source": [
    "df = pd.read_csv('/Users/dhruvkumar/Desktop/results.csv')"
   ]
  },
  {
   "cell_type": "code",
   "execution_count": 57,
   "id": "618c1522-bae8-4bbf-ba88-613b981cc577",
   "metadata": {},
   "outputs": [
    {
     "data": {
      "text/plain": [
       "Index(['objid', 'modelmag_u', 'modelmag_g', 'modelmag_r', 'modelmag_i',\n",
       "       'modelmag_z', 'z'],\n",
       "      dtype='object')"
      ]
     },
     "execution_count": 57,
     "metadata": {},
     "output_type": "execute_result"
    }
   ],
   "source": [
    "df.columns"
   ]
  },
  {
   "cell_type": "code",
   "execution_count": 58,
   "id": "582dfd3f-164f-4cdb-84bd-8e3784308670",
   "metadata": {},
   "outputs": [
    {
     "data": {
      "text/plain": [
       "objid         1000\n",
       "modelmag_u     997\n",
       "modelmag_g    1000\n",
       "modelmag_r     999\n",
       "modelmag_i     999\n",
       "modelmag_z    1000\n",
       "z             1000\n",
       "dtype: int64"
      ]
     },
     "execution_count": 58,
     "metadata": {},
     "output_type": "execute_result"
    }
   ],
   "source": [
    "df.nunique()"
   ]
  },
  {
   "cell_type": "code",
   "execution_count": 59,
   "id": "94c91321-fc22-4c86-b153-96d00d5b8aca",
   "metadata": {},
   "outputs": [
    {
     "data": {
      "text/html": [
       "<div>\n",
       "<style scoped>\n",
       "    .dataframe tbody tr th:only-of-type {\n",
       "        vertical-align: middle;\n",
       "    }\n",
       "\n",
       "    .dataframe tbody tr th {\n",
       "        vertical-align: top;\n",
       "    }\n",
       "\n",
       "    .dataframe thead th {\n",
       "        text-align: right;\n",
       "    }\n",
       "</style>\n",
       "<table border=\"1\" class=\"dataframe\">\n",
       "  <thead>\n",
       "    <tr style=\"text-align: right;\">\n",
       "      <th></th>\n",
       "      <th>objid</th>\n",
       "      <th>modelmag_u</th>\n",
       "      <th>modelmag_g</th>\n",
       "      <th>modelmag_r</th>\n",
       "      <th>modelmag_i</th>\n",
       "      <th>modelmag_z</th>\n",
       "      <th>z</th>\n",
       "    </tr>\n",
       "  </thead>\n",
       "  <tbody>\n",
       "    <tr>\n",
       "      <th>0</th>\n",
       "      <td>1237660024494686312</td>\n",
       "      <td>19.53706</td>\n",
       "      <td>19.33001</td>\n",
       "      <td>19.26110</td>\n",
       "      <td>19.25599</td>\n",
       "      <td>19.04425</td>\n",
       "      <td>0.863151</td>\n",
       "    </tr>\n",
       "    <tr>\n",
       "      <th>1</th>\n",
       "      <td>1237663543150117358</td>\n",
       "      <td>21.22219</td>\n",
       "      <td>20.76472</td>\n",
       "      <td>20.37294</td>\n",
       "      <td>19.87774</td>\n",
       "      <td>19.90864</td>\n",
       "      <td>1.820907</td>\n",
       "    </tr>\n",
       "    <tr>\n",
       "      <th>2</th>\n",
       "      <td>1237663478724363112</td>\n",
       "      <td>23.40885</td>\n",
       "      <td>21.40734</td>\n",
       "      <td>20.39849</td>\n",
       "      <td>20.10683</td>\n",
       "      <td>19.86053</td>\n",
       "      <td>3.181853</td>\n",
       "    </tr>\n",
       "    <tr>\n",
       "      <th>3</th>\n",
       "      <td>1237656906345677139</td>\n",
       "      <td>21.40169</td>\n",
       "      <td>20.65387</td>\n",
       "      <td>20.22158</td>\n",
       "      <td>19.80401</td>\n",
       "      <td>19.62465</td>\n",
       "      <td>1.861428</td>\n",
       "    </tr>\n",
       "    <tr>\n",
       "      <th>4</th>\n",
       "      <td>1237660024494424268</td>\n",
       "      <td>19.83641</td>\n",
       "      <td>19.73237</td>\n",
       "      <td>19.50788</td>\n",
       "      <td>19.42897</td>\n",
       "      <td>19.47734</td>\n",
       "      <td>1.399138</td>\n",
       "    </tr>\n",
       "  </tbody>\n",
       "</table>\n",
       "</div>"
      ],
      "text/plain": [
       "                 objid  modelmag_u  modelmag_g  modelmag_r  modelmag_i  \\\n",
       "0  1237660024494686312    19.53706    19.33001    19.26110    19.25599   \n",
       "1  1237663543150117358    21.22219    20.76472    20.37294    19.87774   \n",
       "2  1237663478724363112    23.40885    21.40734    20.39849    20.10683   \n",
       "3  1237656906345677139    21.40169    20.65387    20.22158    19.80401   \n",
       "4  1237660024494424268    19.83641    19.73237    19.50788    19.42897   \n",
       "\n",
       "   modelmag_z         z  \n",
       "0    19.04425  0.863151  \n",
       "1    19.90864  1.820907  \n",
       "2    19.86053  3.181853  \n",
       "3    19.62465  1.861428  \n",
       "4    19.47734  1.399138  "
      ]
     },
     "execution_count": 59,
     "metadata": {},
     "output_type": "execute_result"
    }
   ],
   "source": [
    "df.head()"
   ]
  },
  {
   "cell_type": "code",
   "execution_count": 60,
   "id": "65556d6a-7f73-4d3b-b3ef-0e901d22bbe2",
   "metadata": {},
   "outputs": [
    {
     "data": {
      "text/plain": [
       "<matplotlib.collections.PathCollection at 0x7fb022ea06d0>"
      ]
     },
     "execution_count": 60,
     "metadata": {},
     "output_type": "execute_result"
    },
    {
     "data": {
      "image/png": "[encoded data removed]",
      "text/plain": [
       "<Figure size 432x288 with 1 Axes>"
      ]
     },
     "metadata": {
      "needs_background": "light"
     },
     "output_type": "display_data"
    }
   ],
   "source": [
    "plt.scatter(df['modelmag_u']-df['modelmag_g'],df.z,marker='+',s=10,c='red')"
   ]
  },
  {
   "cell_type": "code",
   "execution_count": 61,
   "id": "f2e7caeb-e314-43b0-8756-e6b81a32724b",
   "metadata": {},
   "outputs": [
    {
     "data": {
      "text/plain": [
       "<matplotlib.collections.PathCollection at 0x7fb022da2e80>"
      ]
     },
     "execution_count": 61,
     "metadata": {},
     "output_type": "execute_result"
    },
    {
     "data": {
      "image/png": "[encoded data removed]",
      "text/plain": [
       "<Figure size 432x288 with 1 Axes>"
      ]
     },
     "metadata": {
      "needs_background": "light"
     },
     "output_type": "display_data"
    }
   ],
   "source": [
    "plt.scatter(df['modelmag_g']-df['modelmag_r'],df.z,marker='+',s=10,c='blue')"
   ]
  },
  {
   "cell_type": "code",
   "execution_count": 62,
   "id": "e371ff35-1c73-4839-ab94-14f9e260996f",
   "metadata": {},
   "outputs": [
    {
     "data": {
      "text/plain": [
       "<matplotlib.collections.PathCollection at 0x7fb040586460>"
      ]
     },
     "execution_count": 62,
     "metadata": {},
     "output_type": "execute_result"
    },
    {
     "data": {
      "image/png": "[encoded data removed]",
      "text/plain": [
       "<Figure size 432x288 with 1 Axes>"
      ]
     },
     "metadata": {
      "needs_background": "light"
     },
     "output_type": "display_data"
    }
   ],
   "source": [
    "plt.scatter(df['modelmag_r']-df['modelmag_i'],df.z,marker='+',s=10,c='red')"
   ]
  },
  {
   "cell_type": "code",
   "execution_count": 63,
   "id": "c6a3729c-c94b-4365-8d37-bcf9869c55a6",
   "metadata": {},
   "outputs": [
    {
     "data": {
      "text/plain": [
       "<matplotlib.collections.PathCollection at 0x7fb023008130>"
      ]
     },
     "execution_count": 63,
     "metadata": {},
     "output_type": "execute_result"
    },
    {
     "data": {
      "image/png": "[encoded data removed]",
      "text/plain": [
       "<Figure size 432x288 with 1 Axes>"
      ]
     },
     "metadata": {
      "needs_background": "light"
     },
     "output_type": "display_data"
    }
   ],
   "source": [
    "plt.scatter(df['modelmag_i']-df.z,df.z,marker='+',s=10,c='red')"
   ]
  },
  {
   "cell_type": "code",
   "execution_count": 64,
   "id": "74b56697-bffa-493b-b1f8-e0f73e937c5c",
   "metadata": {},
   "outputs": [
    {
     "data": {
      "text/plain": [
       "<matplotlib.collections.PathCollection at 0x7fb022ec27f0>"
      ]
     },
     "execution_count": 64,
     "metadata": {},
     "output_type": "execute_result"
    },
    {
     "data": {
      "image/png": "[encoded data removed]",
      "text/plain": [
       "<Figure size 432x288 with 1 Axes>"
      ]
     },
     "metadata": {
      "needs_background": "light"
     },
     "output_type": "display_data"
    }
   ],
   "source": [
    "plt.scatter(df['modelmag_u']-df['modelmag_g'],df['modelmag_g']-df['modelmag_r'],marker='+',s=10)"
   ]
  },
  {
   "cell_type": "code",
   "execution_count": 65,
   "id": "931220e5-41d6-4232-b404-b16ab5c48fe9",
   "metadata": {},
   "outputs": [
    {
     "data": {
      "text/plain": [
       "<matplotlib.collections.PathCollection at 0x7fb040662a90>"
      ]
     },
     "execution_count": 65,
     "metadata": {},
     "output_type": "execute_result"
    },
    {
     "data": {
      "image/png": "[encoded data removed]",
      "text/plain": [
       "<Figure size 432x288 with 1 Axes>"
      ]
     },
     "metadata": {
      "needs_background": "light"
     },
     "output_type": "display_data"
    }
   ],
   "source": [
    "plt.scatter(df['modelmag_g']-df['modelmag_r'],df['modelmag_r']-df['modelmag_i'],marker='+',s=10)"
   ]
  },
  {
   "cell_type": "code",
   "execution_count": 66,
   "id": "839791ba-2e3e-41fe-9551-d2d456414483",
   "metadata": {},
   "outputs": [
    {
     "data": {
      "text/plain": [
       "<matplotlib.collections.PathCollection at 0x7faff031f400>"
      ]
     },
     "execution_count": 66,
     "metadata": {},
     "output_type": "execute_result"
    },
    {
     "data": {
      "image/png": "[encoded data removed]",
      "text/plain": [
       "<Figure size 432x288 with 1 Axes>"
      ]
     },
     "metadata": {
      "needs_background": "light"
     },
     "output_type": "display_data"
    }
   ],
   "source": [
    "plt.scatter(df['modelmag_i']-df.z,df['modelmag_r']-df['modelmag_i'],marker='+',s=10,cmap='binary')"
   ]
  },
  {
   "cell_type": "code",
   "execution_count": 67,
   "id": "8e2e3ac7-c408-4518-b6b7-f9dc9e23ece2",
   "metadata": {},
   "outputs": [],
   "source": [
    "df2 = pd.read_csv('/Users/dhruvkumar/Desktop/results-2.csv')"
   ]
  },
  {
   "cell_type": "code",
   "execution_count": 68,
   "id": "271d1d81-aaf6-420f-88c4-61541adfcdf5",
   "metadata": {},
   "outputs": [
    {
     "data": {
      "text/html": [
       "<div>\n",
       "<style scoped>\n",
       "    .dataframe tbody tr th:only-of-type {\n",
       "        vertical-align: middle;\n",
       "    }\n",
       "\n",
       "    .dataframe tbody tr th {\n",
       "        vertical-align: top;\n",
       "    }\n",
       "\n",
       "    .dataframe thead th {\n",
       "        text-align: right;\n",
       "    }\n",
       "</style>\n",
       "<table border=\"1\" class=\"dataframe\">\n",
       "  <thead>\n",
       "    <tr style=\"text-align: right;\">\n",
       "      <th></th>\n",
       "      <th>objid</th>\n",
       "      <th>modelmag_u</th>\n",
       "      <th>modelmag_g</th>\n",
       "      <th>modelmag_r</th>\n",
       "      <th>modelmag_i</th>\n",
       "      <th>modelmag_z</th>\n",
       "      <th>z</th>\n",
       "    </tr>\n",
       "  </thead>\n",
       "  <tbody>\n",
       "    <tr>\n",
       "      <th>0</th>\n",
       "      <td>1237660024494686312</td>\n",
       "      <td>19.53706</td>\n",
       "      <td>19.33001</td>\n",
       "      <td>19.26110</td>\n",
       "      <td>19.25599</td>\n",
       "      <td>19.04425</td>\n",
       "      <td>0.863151</td>\n",
       "    </tr>\n",
       "    <tr>\n",
       "      <th>1</th>\n",
       "      <td>1237663543150117358</td>\n",
       "      <td>21.22219</td>\n",
       "      <td>20.76472</td>\n",
       "      <td>20.37294</td>\n",
       "      <td>19.87774</td>\n",
       "      <td>19.90864</td>\n",
       "      <td>1.820907</td>\n",
       "    </tr>\n",
       "    <tr>\n",
       "      <th>2</th>\n",
       "      <td>1237663478724363112</td>\n",
       "      <td>23.40885</td>\n",
       "      <td>21.40734</td>\n",
       "      <td>20.39849</td>\n",
       "      <td>20.10683</td>\n",
       "      <td>19.86053</td>\n",
       "      <td>3.181853</td>\n",
       "    </tr>\n",
       "    <tr>\n",
       "      <th>3</th>\n",
       "      <td>1237656906345677139</td>\n",
       "      <td>21.40169</td>\n",
       "      <td>20.65387</td>\n",
       "      <td>20.22158</td>\n",
       "      <td>19.80401</td>\n",
       "      <td>19.62465</td>\n",
       "      <td>1.861428</td>\n",
       "    </tr>\n",
       "    <tr>\n",
       "      <th>4</th>\n",
       "      <td>1237660024494424268</td>\n",
       "      <td>19.83641</td>\n",
       "      <td>19.73237</td>\n",
       "      <td>19.50788</td>\n",
       "      <td>19.42897</td>\n",
       "      <td>19.47734</td>\n",
       "      <td>1.399138</td>\n",
       "    </tr>\n",
       "  </tbody>\n",
       "</table>\n",
       "</div>"
      ],
      "text/plain": [
       "                 objid  modelmag_u  modelmag_g  modelmag_r  modelmag_i  \\\n",
       "0  1237660024494686312    19.53706    19.33001    19.26110    19.25599   \n",
       "1  1237663543150117358    21.22219    20.76472    20.37294    19.87774   \n",
       "2  1237663478724363112    23.40885    21.40734    20.39849    20.10683   \n",
       "3  1237656906345677139    21.40169    20.65387    20.22158    19.80401   \n",
       "4  1237660024494424268    19.83641    19.73237    19.50788    19.42897   \n",
       "\n",
       "   modelmag_z         z  \n",
       "0    19.04425  0.863151  \n",
       "1    19.90864  1.820907  \n",
       "2    19.86053  3.181853  \n",
       "3    19.62465  1.861428  \n",
       "4    19.47734  1.399138  "
      ]
     },
     "execution_count": 68,
     "metadata": {},
     "output_type": "execute_result"
    }
   ],
   "source": [
    "df2.head()"
   ]
  },
  {
   "cell_type": "code",
   "execution_count": 72,
   "id": "63e1f3a1-3d6e-48c8-b147-cdf5cb5c61ec",
   "metadata": {},
   "outputs": [
    {
     "data": {
      "text/plain": [
       "<matplotlib.collections.PathCollection at 0x7fb040431d90>"
      ]
     },
     "execution_count": 72,
     "metadata": {},
     "output_type": "execute_result"
    },
    {
     "data": {
      "image/png": "[encoded data removed]",
      "text/plain": [
       "<Figure size 432x288 with 1 Axes>"
      ]
     },
     "metadata": {
      "needs_background": "light"
     },
     "output_type": "display_data"
    }
   ],
   "source": [
    "plt.scatter((df2['modelmag_u']-df2['modelmag_g']),df2.z,marker='+',s=10,c='red')"
   ]
  },
  {
   "cell_type": "code",
   "execution_count": 70,
   "id": "cd594f3f-a96f-4b0d-a461-a631a413f339",
   "metadata": {},
   "outputs": [
    {
     "data": {
      "text/plain": [
       "<matplotlib.collections.PathCollection at 0x7fb061ad7910>"
      ]
     },
     "execution_count": 70,
     "metadata": {},
     "output_type": "execute_result"
    },
    {
     "data": {
      "image/png": "[encoded data removed]",
      "text/plain": [
       "<Figure size 432x288 with 1 Axes>"
      ]
     },
     "metadata": {
      "needs_background": "light"
     },
     "output_type": "display_data"
    }
   ],
   "source": [
    "plt.scatter(df2['modelmag_g']-df2['modelmag_r'],df2.z,marker='+',s=10,c='blue')"
   ]
  },
  {
   "cell_type": "code",
   "execution_count": null,
   "id": "04bbeeed-599a-4121-b85b-8cf080181718",
   "metadata": {},
   "outputs": [],
   "source": []
  }
 ],
 "metadata": {
  "kernelspec": {
   "display_name": "Python 3",
   "language": "python",
   "name": "python3"
  },
  "language_info": {
   "codemirror_mode": {
    "name": "ipython",
    "version": 3
   },
   "file_extension": ".py",
   "mimetype": "text/x-python",
   "name": "python",
   "nbconvert_exporter": "python",
   "pygments_lexer": "ipython3",
   "version": "3.8.8"
  }
 },
 "nbformat": 4,
 "nbformat_minor": 5
}
